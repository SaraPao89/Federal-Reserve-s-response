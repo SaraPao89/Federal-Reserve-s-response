{
 "cells": [
  {
   "cell_type": "code",
   "execution_count": 1,
   "id": "34c2e35e",
   "metadata": {},
   "outputs": [
    {
     "ename": "SyntaxError",
     "evalue": "invalid character '↪' (U+21AA) (1933363253.py, line 8)",
     "output_type": "error",
     "traceback": [
      "\u001b[0;36m  File \u001b[0;32m\"/var/folders/c5/3rvgz4497dldyqr_yjg2mq4r0000gn/T/ipykernel_67080/1933363253.py\"\u001b[0;36m, line \u001b[0;32m8\u001b[0m\n\u001b[0;31m    ↪Percent, Daily, Not Seasonally Adjusted\u001b[0m\n\u001b[0m    ^\u001b[0m\n\u001b[0;31mSyntaxError\u001b[0m\u001b[0;31m:\u001b[0m invalid character '↪' (U+21AA)\n"
     ]
    }
   ],
   "source": [
    "import pandas as pd\n",
    "# Federal Funds Effective Rate, Percent, Monthly, Not Seasonally Adjusted\n",
    "FEDFUNDS = pd.read_excel('Federal Funds Effective Rate copia.xls', header=0, index_col=0, parse_dates=True)\n",
    "# IOER-DFF, %-%, Weekly, Not Seasonally Adjusted\n",
    "IOER_DFF = pd.read_excel('Interest Rate on Excess Reserves␣ ↪(DISCONTINUED)-Federal Funds Effective Rate. copia.xls',\n",
    "header=10, index_col=0, parse_dates=True)\n",
    "# 10-Year Treasury Constant Maturity Minus 3-Month Treasury Constant Maturity,␣\n",
    "↪Percent, Daily, Not Seasonally Adjusted\n",
    "# Resampled to month\n",
    "T10Y3M = pd.read_excel('T10Y3M (1).xls', header=10,\n",
    "index_col=0, parse_dates=True).resample('1M').mean()\n",
    "# Merge all three in single dataframe\n",
    "merged = pd.merge_asof(FEDFUNDS, IOER_DFF, on='observation_date')\n",
    "merged = pd.merge_asof(merged, T10Y3M, on='observation_date')\n",
    "# Merge those to correlate\n",
    "toCorrelate = pd.merge_asof(FEDFUNDS, T10Y3M, on='observation_date')\n"
   ]
  },
  {
   "cell_type": "code",
   "execution_count": 2,
   "id": "7226b59d",
   "metadata": {},
   "outputs": [
    {
     "ename": "NameError",
     "evalue": "name 'merged' is not defined",
     "output_type": "error",
     "traceback": [
      "\u001b[0;31m---------------------------------------------------------------------------\u001b[0m",
      "\u001b[0;31mNameError\u001b[0m                                 Traceback (most recent call last)",
      "\u001b[0;32m/var/folders/c5/3rvgz4497dldyqr_yjg2mq4r0000gn/T/ipykernel_67080/2994278689.py\u001b[0m in \u001b[0;36m<module>\u001b[0;34m\u001b[0m\n\u001b[1;32m      1\u001b[0m \u001b[0;31m# Show merged dataframe\u001b[0m\u001b[0;34m\u001b[0m\u001b[0;34m\u001b[0m\u001b[0m\n\u001b[0;32m----> 2\u001b[0;31m \u001b[0mdisplay\u001b[0m\u001b[0;34m(\u001b[0m\u001b[0mmerged\u001b[0m\u001b[0;34m)\u001b[0m\u001b[0;34m\u001b[0m\u001b[0;34m\u001b[0m\u001b[0m\n\u001b[0m",
      "\u001b[0;31mNameError\u001b[0m: name 'merged' is not defined"
     ]
    }
   ],
   "source": [
    "# Show merged dataframe\n",
    "display(merged)"
   ]
  },
  {
   "cell_type": "code",
   "execution_count": 3,
   "id": "be8cd79b",
   "metadata": {},
   "outputs": [
    {
     "ename": "NameError",
     "evalue": "name 'merged' is not defined",
     "output_type": "error",
     "traceback": [
      "\u001b[0;31m---------------------------------------------------------------------------\u001b[0m",
      "\u001b[0;31mNameError\u001b[0m                                 Traceback (most recent call last)",
      "\u001b[0;32m/var/folders/c5/3rvgz4497dldyqr_yjg2mq4r0000gn/T/ipykernel_67080/2661130189.py\u001b[0m in \u001b[0;36m<module>\u001b[0;34m\u001b[0m\n\u001b[1;32m      1\u001b[0m \u001b[0;31m# Analyze merged dataframe\u001b[0m\u001b[0;34m\u001b[0m\u001b[0;34m\u001b[0m\u001b[0m\n\u001b[0;32m----> 2\u001b[0;31m \u001b[0mmerged\u001b[0m\u001b[0;34m.\u001b[0m\u001b[0mdescribe\u001b[0m\u001b[0;34m(\u001b[0m\u001b[0;34m)\u001b[0m\u001b[0;34m\u001b[0m\u001b[0;34m\u001b[0m\u001b[0m\n\u001b[0m",
      "\u001b[0;31mNameError\u001b[0m: name 'merged' is not defined"
     ]
    }
   ],
   "source": [
    "# Analyze merged dataframe\n",
    "merged.describe()"
   ]
  },
  {
   "cell_type": "code",
   "execution_count": 4,
   "id": "d58afcb3",
   "metadata": {},
   "outputs": [
    {
     "ename": "NameError",
     "evalue": "name 'merged' is not defined",
     "output_type": "error",
     "traceback": [
      "\u001b[0;31m---------------------------------------------------------------------------\u001b[0m",
      "\u001b[0;31mNameError\u001b[0m                                 Traceback (most recent call last)",
      "\u001b[0;32m/var/folders/c5/3rvgz4497dldyqr_yjg2mq4r0000gn/T/ipykernel_67080/2069148990.py\u001b[0m in \u001b[0;36m<module>\u001b[0;34m\u001b[0m\n\u001b[1;32m      1\u001b[0m \u001b[0;31m# Plot merged dataframe\u001b[0m\u001b[0;34m\u001b[0m\u001b[0;34m\u001b[0m\u001b[0m\n\u001b[0;32m----> 2\u001b[0;31m \u001b[0mx\u001b[0m \u001b[0;34m=\u001b[0m \u001b[0mmerged\u001b[0m\u001b[0;34m[\u001b[0m\u001b[0;34m'observation_date'\u001b[0m\u001b[0;34m]\u001b[0m\u001b[0;34m.\u001b[0m\u001b[0mtolist\u001b[0m\u001b[0;34m(\u001b[0m\u001b[0;34m)\u001b[0m\u001b[0;34m\u001b[0m\u001b[0;34m\u001b[0m\u001b[0m\n\u001b[0m\u001b[1;32m      3\u001b[0m plot = merged.plot.line(x=0, xticks=x, grid=True,\n\u001b[1;32m      4\u001b[0m                         linestyle='--', marker='.', title='Data Trend')\n\u001b[1;32m      5\u001b[0m \u001b[0mline\u001b[0m \u001b[0;34m=\u001b[0m \u001b[0mplot\u001b[0m\u001b[0;34m.\u001b[0m\u001b[0maxvline\u001b[0m\u001b[0;34m(\u001b[0m\u001b[0mpd\u001b[0m\u001b[0;34m.\u001b[0m\u001b[0mto_datetime\u001b[0m\u001b[0;34m(\u001b[0m\u001b[0;34m'2020-03-01'\u001b[0m\u001b[0;34m)\u001b[0m\u001b[0;34m,\u001b[0m \u001b[0mcolor\u001b[0m\u001b[0;34m=\u001b[0m\u001b[0;34m'red'\u001b[0m\u001b[0;34m)\u001b[0m\u001b[0;34m\u001b[0m\u001b[0;34m\u001b[0m\u001b[0m\n",
      "\u001b[0;31mNameError\u001b[0m: name 'merged' is not defined"
     ]
    }
   ],
   "source": [
    "# Plot merged dataframe\n",
    "x = merged['observation_date'].tolist()\n",
    "plot = merged.plot.line(x=0, xticks=x, grid=True,\n",
    "                        linestyle='--', marker='.', title='Data Trend')\n",
    "line = plot.axvline(pd.to_datetime('2020-03-01'), color='red')"
   ]
  },
  {
   "cell_type": "code",
   "execution_count": 5,
   "id": "ec021fc8",
   "metadata": {},
   "outputs": [
    {
     "ename": "NameError",
     "evalue": "name 'toCorrelate' is not defined",
     "output_type": "error",
     "traceback": [
      "\u001b[0;31m---------------------------------------------------------------------------\u001b[0m",
      "\u001b[0;31mNameError\u001b[0m                                 Traceback (most recent call last)",
      "\u001b[0;32m/var/folders/c5/3rvgz4497dldyqr_yjg2mq4r0000gn/T/ipykernel_67080/502133508.py\u001b[0m in \u001b[0;36m<module>\u001b[0;34m\u001b[0m\n\u001b[1;32m      1\u001b[0m \u001b[0;31m# Print correlation matrix\u001b[0m\u001b[0;34m\u001b[0m\u001b[0;34m\u001b[0m\u001b[0m\n\u001b[0;32m----> 2\u001b[0;31m \u001b[0mtoCorrelate\u001b[0m\u001b[0;34m.\u001b[0m\u001b[0mcorr\u001b[0m\u001b[0;34m(\u001b[0m\u001b[0mmethod\u001b[0m\u001b[0;34m=\u001b[0m\u001b[0;34m'spearman'\u001b[0m\u001b[0;34m)\u001b[0m\u001b[0;34m\u001b[0m\u001b[0;34m\u001b[0m\u001b[0m\n\u001b[0m",
      "\u001b[0;31mNameError\u001b[0m: name 'toCorrelate' is not defined"
     ]
    }
   ],
   "source": [
    "# Print correlation matrix\n",
    "toCorrelate.corr(method='spearman')"
   ]
  },
  {
   "cell_type": "code",
   "execution_count": 6,
   "id": "122f4840",
   "metadata": {},
   "outputs": [
    {
     "ename": "SyntaxError",
     "evalue": "invalid syntax (1768202261.py, line 2)",
     "output_type": "error",
     "traceback": [
      "\u001b[0;36m  File \u001b[0;32m\"/var/folders/c5/3rvgz4497dldyqr_yjg2mq4r0000gn/T/ipykernel_67080/1768202261.py\"\u001b[0;36m, line \u001b[0;32m2\u001b[0m\n\u001b[0;31m    from scipy.optimize import curve_fit import matplotlib.pyplot as plt\u001b[0m\n\u001b[0m                                         ^\u001b[0m\n\u001b[0;31mSyntaxError\u001b[0m\u001b[0;31m:\u001b[0m invalid syntax\n"
     ]
    }
   ],
   "source": [
    "import numpy as np\n",
    "from scipy.optimize import curve_fit import matplotlib.pyplot as plt\n",
    "# Fit polynomial gr 1\n",
    "toCorrelate = toCorrelate.dropna()\n",
    "d = np.polyfit(toCorrelate['FEDFUNDS'], toCorrelate['T10Y3M'], 2)\n",
    "f = np.poly1d(d)\n",
    "toCorrelate['Corr'] = f(toCorrelate['FEDFUNDS'])\n",
    "# scatter plot for the dataset\n",
    "ax = toCorrelate.plot.scatter(x='FEDFUNDS', y='T10Y3M')\n",
    "plot = toCorrelate.sort_values('FEDFUNDS').plot(x='FEDFUNDS', y='Corr',␣\n",
    "↪color='Red',ax=ax, grid=True, title='Correlation plot')\n"
   ]
  },
  {
   "cell_type": "code",
   "execution_count": 7,
   "id": "ce8c3cb0",
   "metadata": {},
   "outputs": [
    {
     "ename": "NameError",
     "evalue": "name 'pd' is not defined",
     "output_type": "error",
     "traceback": [
      "\u001b[0;31m---------------------------------------------------------------------------\u001b[0m",
      "\u001b[0;31mNameError\u001b[0m                                 Traceback (most recent call last)",
      "\u001b[0;32m/var/folders/c5/3rvgz4497dldyqr_yjg2mq4r0000gn/T/ipykernel_67080/3725867344.py\u001b[0m in \u001b[0;36m<module>\u001b[0;34m\u001b[0m\n\u001b[1;32m      1\u001b[0m \u001b[0;31m# Total Reserve Balances Maintained with Federal Reserve Banks (DISCONTINUED),␣ ↪Millions of Dollars, Weekly, Not Seasonally Adjusted\u001b[0m\u001b[0;34m\u001b[0m\u001b[0;34m\u001b[0m\u001b[0m\n\u001b[0;32m----> 2\u001b[0;31m RESBALNSW = pd.read_excel('RESBALNSW.xls', header=10,\n\u001b[0m\u001b[1;32m      3\u001b[0m index_col=0, parse_dates=True).resample('1M').mean()\n\u001b[1;32m      4\u001b[0m \u001b[0;31m# Show data and plot\u001b[0m\u001b[0;34m\u001b[0m\u001b[0;34m\u001b[0m\u001b[0m\n\u001b[1;32m      5\u001b[0m \u001b[0mdisplay\u001b[0m\u001b[0;34m(\u001b[0m\u001b[0mRESBALNSW\u001b[0m\u001b[0;34m)\u001b[0m\u001b[0;34m\u001b[0m\u001b[0;34m\u001b[0m\u001b[0m\n",
      "\u001b[0;31mNameError\u001b[0m: name 'pd' is not defined"
     ]
    }
   ],
   "source": [
    "# Total Reserve Balances Maintained with Federal Reserve Banks (DISCONTINUED),␣ ↪Millions of Dollars, Weekly, Not Seasonally Adjusted\n",
    "RESBALNSW = pd.read_excel('RESBALNSW.xls', header=10,\n",
    "index_col=0, parse_dates=True).resample('1M').mean()\n",
    "# Show data and plot\n",
    "display(RESBALNSW)\n",
    "x = RESBALNSW.index.tolist()\n",
    "plot = RESBALNSW.plot.line(xticks=x, grid=True, linestyle='--',\n",
    "                           marker='o', title='Trend of reserve balances')"
   ]
  },
  {
   "cell_type": "code",
   "execution_count": 8,
   "id": "c7cebfe5",
   "metadata": {},
   "outputs": [
    {
     "ename": "NameError",
     "evalue": "name 'toCorrelate' is not defined",
     "output_type": "error",
     "traceback": [
      "\u001b[0;31m---------------------------------------------------------------------------\u001b[0m",
      "\u001b[0;31mNameError\u001b[0m                                 Traceback (most recent call last)",
      "\u001b[0;32m/var/folders/c5/3rvgz4497dldyqr_yjg2mq4r0000gn/T/ipykernel_67080/1108502911.py\u001b[0m in \u001b[0;36m<module>\u001b[0;34m\u001b[0m\n\u001b[1;32m      1\u001b[0m \u001b[0;32mfrom\u001b[0m \u001b[0mstatsmodels\u001b[0m\u001b[0;34m.\u001b[0m\u001b[0mtsa\u001b[0m\u001b[0;34m.\u001b[0m\u001b[0mstattools\u001b[0m \u001b[0;32mimport\u001b[0m \u001b[0mgrangercausalitytests\u001b[0m \u001b[0;31m# #perform Granger-Causality test\u001b[0m\u001b[0;34m\u001b[0m\u001b[0;34m\u001b[0m\u001b[0m\n\u001b[1;32m      2\u001b[0m \u001b[0;31m# grangercausalitytests(df[['column1', 'column2']], maxlag=[3])\u001b[0m\u001b[0;34m\u001b[0m\u001b[0;34m\u001b[0m\u001b[0m\n\u001b[0;32m----> 3\u001b[0;31m \u001b[0mtoCorrelate\u001b[0m\u001b[0;34m[\u001b[0m\u001b[0;34m'diff f'\u001b[0m\u001b[0;34m]\u001b[0m \u001b[0;34m=\u001b[0m \u001b[0mtoCorrelate\u001b[0m\u001b[0;34m[\u001b[0m\u001b[0;34m'FEDFUNDS'\u001b[0m\u001b[0;34m]\u001b[0m\u001b[0;34m.\u001b[0m\u001b[0mdiff\u001b[0m\u001b[0;34m(\u001b[0m\u001b[0;34m)\u001b[0m\u001b[0;34m\u001b[0m\u001b[0;34m\u001b[0m\u001b[0m\n\u001b[0m\u001b[1;32m      4\u001b[0m \u001b[0mtoCorrelate\u001b[0m\u001b[0;34m[\u001b[0m\u001b[0;34m'diff t'\u001b[0m\u001b[0;34m]\u001b[0m \u001b[0;34m=\u001b[0m \u001b[0mtoCorrelate\u001b[0m\u001b[0;34m[\u001b[0m\u001b[0;34m'T10Y3M'\u001b[0m\u001b[0;34m]\u001b[0m\u001b[0;34m.\u001b[0m\u001b[0mdiff\u001b[0m\u001b[0;34m(\u001b[0m\u001b[0;34m)\u001b[0m\u001b[0;34m\u001b[0m\u001b[0;34m\u001b[0m\u001b[0m\n\u001b[1;32m      5\u001b[0m \u001b[0mnoNan\u001b[0m \u001b[0;34m=\u001b[0m \u001b[0mtoCorrelate\u001b[0m\u001b[0;34m.\u001b[0m\u001b[0mdropna\u001b[0m\u001b[0;34m(\u001b[0m\u001b[0;34m)\u001b[0m\u001b[0;34m\u001b[0m\u001b[0;34m\u001b[0m\u001b[0m\n",
      "\u001b[0;31mNameError\u001b[0m: name 'toCorrelate' is not defined"
     ]
    }
   ],
   "source": [
    "from statsmodels.tsa.stattools import grangercausalitytests # #perform Granger-Causality test\n",
    "# grangercausalitytests(df[['column1', 'column2']], maxlag=[3])\n",
    "toCorrelate['diff f'] = toCorrelate['FEDFUNDS'].diff()\n",
    "toCorrelate['diff t'] = toCorrelate['T10Y3M'].diff()\n",
    "noNan = toCorrelate.dropna()\n",
    "res = grangercausalitytests(noNan[['diff f', 'diff t']], maxlag=[1])"
   ]
  },
  {
   "cell_type": "code",
   "execution_count": null,
   "id": "4d80411f",
   "metadata": {},
   "outputs": [],
   "source": []
  }
 ],
 "metadata": {
  "kernelspec": {
   "display_name": "Python 3 (ipykernel)",
   "language": "python",
   "name": "python3"
  },
  "language_info": {
   "codemirror_mode": {
    "name": "ipython",
    "version": 3
   },
   "file_extension": ".py",
   "mimetype": "text/x-python",
   "name": "python",
   "nbconvert_exporter": "python",
   "pygments_lexer": "ipython3",
   "version": "3.9.13"
  }
 },
 "nbformat": 4,
 "nbformat_minor": 5
}
